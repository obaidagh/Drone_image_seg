{
 "cells": [
  {
   "cell_type": "markdown",
   "id": "00f45fb9-a6bc-446e-b050-546e6d83dc6a",
   "metadata": {
    "tags": []
   },
   "source": [
    "# <center style=\"background-color:#606F66;color: white; vertical-align: middle; padding:20px 5px;\">Aerial Semantic Segmentation Drone </center>"
   ]
  },
  {
   "cell_type": "markdown",
   "id": "419d64fb-86a3-4cf6-ae6a-fee549e562ca",
   "metadata": {
    "tags": []
   },
   "source": [
    "## <center style=\"background-color:#EF6145;color: white; vertical-align: middle; padding:10px 5px;\">Importing Libraries</center>"
   ]
  },
  {
   "cell_type": "code",
   "execution_count": null,
   "metadata": {},
   "outputs": [],
   "source": [
    "import cv2 as cv\n",
    "import matplotlib.pyplot as plt\n",
    "import numpy as np\n",
    "import pandas as pd\n",
    "import tensorflow as tf\n",
    "from tensorflow import keras\n",
    "import os\n",
    "\n",
    "import imgaug as ia\n",
    "from imgaug import augmenters\n",
    "\n",
    "from Augmentaion_Pipeline import iter_path_list\n",
    "from Decode_csv import decode_csv\n",
    "from functools import partial\n",
    "\n",
    "from sklearn.model_selection import train_test_split\n",
    "from sklearn.utils import shuffle\n"
   ]
  },
  {
   "cell_type": "markdown",
   "id": "9deec3b7-0225-4d10-89a8-947a893d3713",
   "metadata": {},
   "source": [
    "# <center style=\"background-color:#54A57C;color: white; vertical-align: middle; padding:10px 5px;\">Preprocessing</center>"
   ]
  },
  {
   "cell_type": "markdown",
   "metadata": {},
   "source": [
    "## <center style=\"background-color:#EF6145;color: white; vertical-align: middle; padding:10px 5px;\">Image Path glob</center>"
   ]
  },
  {
   "cell_type": "code",
   "execution_count": null,
   "metadata": {},
   "outputs": [],
   "source": [
    "IMG_HEIGHT = 800\n",
    "IMG_WIDTH  = 1200\n",
    "IMG_CHANNELS = 3\n",
    "Num_Classes = 23\n",
    "reshape_dims = (IMG_HEIGHT,IMG_WIDTH)\n",
    "combined=[Num_Classes,reshape_dims]# to pass as argument for map function\n",
    "batch_size = 16"
   ]
  },
  {
   "cell_type": "code",
   "execution_count": null,
   "id": "9aa28c1f-6666-40ae-be70-330c97b43bef",
   "metadata": {},
   "outputs": [],
   "source": [
    "SEG_PNG_LIST = tf.io.gfile.glob(\"./Data/label_images_semantic/*.png\")\n",
    "ORIGINAL_JPG_LIST = tf.io.gfile.glob('./Data/original_images/*.jpg')\n",
    "index = [os.path.splitext(filename)[0] for filename in os.listdir('./Data/original_images/')]\n",
    "\n",
    "SEG_PNG_LIST.sort()\n",
    "ORIGINAL_JPG_LIST.sort()\n",
    "index.sort()\n",
    "\n",
    "\n",
    "Orginal_images_aug_path='./Data/original_images_aug'\n",
    "\n",
    "\n",
    "Segmented_images_aug_path='./Data/label_images_semantic_aug'\n",
    "\n",
    "\n"
   ]
  },
  {
   "cell_type": "markdown",
   "metadata": {},
   "source": [
    "## <center style=\"background-color:#EF6145;color: white; vertical-align: middle; padding:10px 5px;\">Data augmentaion</center>"
   ]
  },
  {
   "cell_type": "code",
   "execution_count": null,
   "metadata": {},
   "outputs": [],
   "source": [
    "rot_90 = augmenters.Rot90(1) #rot_90 = augmenters.Rot90(times) #time=1 =>90deg, time=2 =>180deg, time=3 =>270deg\n",
    "rot_180 = augmenters.Rot90(2) \n",
    "rot_270 = augmenters.Rot90(3)\n",
    "flip_hor = augmenters.Fliplr(1) \n",
    "fli_vert = augmenters.Flipud(1)\n",
    "perspective_transform = augmenters.PerspectiveTransform(scale=(0.01, 0.15))\n",
    "\n",
    "pipeline = [rot_90, rot_180, rot_270, flip_hor, fli_vert,perspective_transform]"
   ]
  },
  {
   "cell_type": "code",
   "execution_count": null,
   "metadata": {},
   "outputs": [],
   "source": [
    "iter_path_list(index,SEG_PNG_LIST,\".png\",Segmented_images_aug_path,pipeline)\n",
    "iter_path_list(index,ORIGINAL_JPG_LIST,\".jpg\",Orginal_images_aug_path,pipeline)"
   ]
  },
  {
   "cell_type": "code",
   "execution_count": null,
   "metadata": {},
   "outputs": [],
   "source": [
    "ORIGINAL_JPG_LIST_with_aug = ORIGINAL_JPG_LIST+tf.io.gfile.glob('./Data/original_images_aug/*.jpg')\n",
    "SEG_PNG_LIST_with_aug      = SEG_PNG_LIST+tf.io.gfile.glob('./Data/label_images_semantic_aug/*.png')\n",
    "index_with_aug=index+[os.path.splitext(filename)[0] for filename in os.listdir('./Data/original_images_aug/')]"
   ]
  },
  {
   "cell_type": "markdown",
   "metadata": {},
   "source": [
    "## <center style=\"background-color:#EF6145;color: white; vertical-align: middle; padding:10px 5px;\">Creating Dataframe from paths</center>"
   ]
  },
  {
   "cell_type": "code",
   "execution_count": null,
   "id": "91961b0d-5a01-459e-a114-923a0f1c357e",
   "metadata": {},
   "outputs": [],
   "source": [
    "df=pd.DataFrame((index_with_aug,ORIGINAL_JPG_LIST_with_aug,SEG_PNG_LIST_with_aug)).T\n",
    "df.rename(columns={\n",
    "    0: 'index',\n",
    "    1: 'Orginal',\n",
    "    2: 'Segmented'},\n",
    "          inplace=True)\n",
    "df.set_index('index', inplace= True)\n",
    "df.to_csv('DataFrame.csv')\n",
    "\n",
    "df = shuffle(df)\n"
   ]
  },
  {
   "cell_type": "code",
   "execution_count": null,
   "id": "aaab3c6e-8a4b-49b1-a5ee-fb734680d839",
   "metadata": {},
   "outputs": [],
   "source": [
    "X_train,X_val = train_test_split(df, test_size=0.15, random_state=42)\n",
    "X_val,X_test = train_test_split(X_val, test_size=0.15, random_state=42)"
   ]
  }
 ],
 "metadata": {
  "language_info": {
   "name": "python"
  },
  "orig_nbformat": 4
 },
 "nbformat": 4,
 "nbformat_minor": 2
}
